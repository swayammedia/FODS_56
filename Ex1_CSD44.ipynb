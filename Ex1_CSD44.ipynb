{
 "cells": [
  {
   "cell_type": "code",
   "execution_count": 1,
   "id": "100d0e34-3e76-4de2-9d91-3092c13a1e9b",
   "metadata": {},
   "outputs": [],
   "source": [
    "import pandas as pd\n",
    "import numpy as np\n",
    "\n",
    "# 1. Creating and Manipulating DataFrames\n",
    "# Creating the student_data DataFrame\n",
    "student_data = pd.DataFrame({\n",
    "    'Name': ['Alice', 'Bob', 'Charlie', 'David', 'Eva'],\n",
    "    'Age': [23, 25, 22, 24, 23],\n",
    "    'Gender': ['F', 'M', 'M', 'M', 'F'],\n",
    "    'Score': [85, 78, 92, 70, 88]\n",
    "})"
   ]
  },
  {
   "cell_type": "code",
   "execution_count": 3,
   "id": "1714b898-c462-4e7d-85dd-6bdca9124035",
   "metadata": {},
   "outputs": [
    {
     "name": "stdout",
     "output_type": "stream",
     "text": [
      "      Name  Age Gender  Score\n",
      "0    Alice   23      F     85\n",
      "1      Bob   25      M     78\n",
      "2  Charlie   22      M     92\n"
     ]
    }
   ],
   "source": [
    "print(student_data.head(3))"
   ]
  },
  {
   "cell_type": "code",
   "execution_count": 5,
   "id": "0479dd2c-5bcf-4d29-bdaa-ba5faee57759",
   "metadata": {},
   "outputs": [
    {
     "name": "stdout",
     "output_type": "stream",
     "text": [
      "    Name  Age Gender  Score\n",
      "0  Alice   23      F     85\n",
      "4    Eva   23      F     88\n"
     ]
    }
   ],
   "source": [
    "gender_f = student_data[student_data['Gender'] == 'F']\n",
    "print(gender_f)"
   ]
  },
  {
   "cell_type": "code",
   "execution_count": 7,
   "id": "6fd024e2-48bd-46dd-b3b0-82e1e6be476f",
   "metadata": {},
   "outputs": [],
   "source": [
    "student_data['Score1'] = student_data['Score']\n",
    "student_data['Score2'] = student_data['Score']\n"
   ]
  },
  {
   "cell_type": "code",
   "execution_count": 9,
   "id": "4cc911c8-f75b-41c8-a840-8090b87cec89",
   "metadata": {},
   "outputs": [],
   "source": [
    "student_data['Age1'] = student_data['Age']\n"
   ]
  },
  {
   "cell_type": "code",
   "execution_count": 11,
   "id": "c298ae44-8fc6-4715-a840-436fd5eac1f5",
   "metadata": {},
   "outputs": [
    {
     "name": "stdout",
     "output_type": "stream",
     "text": [
      "      Name  Age Gender  Score  Score1  Score2  Age1\n",
      "0    Alice   23      F     85      85      85    23\n",
      "1      Bob   25      M     78      78      78    25\n",
      "2  Charlie   22      M     92      92      92    22\n"
     ]
    }
   ],
   "source": [
    "print(student_data.head(3))"
   ]
  },
  {
   "cell_type": "code",
   "execution_count": 13,
   "id": "01524e23-892b-41f9-94c5-05ad71af964f",
   "metadata": {},
   "outputs": [],
   "source": [
    "student_data = student_data.drop(columns=['Age1'])"
   ]
  },
  {
   "cell_type": "code",
   "execution_count": 15,
   "id": "13324195-e8db-44b5-9b07-1676020e8e28",
   "metadata": {},
   "outputs": [
    {
     "name": "stdout",
     "output_type": "stream",
     "text": [
      "      Name  Age Gender  Score  Score1  Score2\n",
      "0    Alice   23      F     85      85      85\n",
      "1      Bob   25      M     78      78      78\n",
      "2  Charlie   22      M     92      92      92\n"
     ]
    }
   ],
   "source": [
    "print(student_data.head(3))\n"
   ]
  },
  {
   "cell_type": "code",
   "execution_count": 17,
   "id": "a94f8a33-39d1-4be2-ad3d-b9eb37163bbd",
   "metadata": {},
   "outputs": [],
   "source": [
    "student_data = student_data.drop(columns=['Score1', 'Score2'])"
   ]
  },
  {
   "cell_type": "code",
   "execution_count": 19,
   "id": "2da50952-f2b4-4601-a354-a77c95642489",
   "metadata": {},
   "outputs": [
    {
     "name": "stdout",
     "output_type": "stream",
     "text": [
      "      Name  Age Gender  Score\n",
      "0    Alice   23      F     85\n",
      "1      Bob   25      M     78\n",
      "2  Charlie   22      M     92\n"
     ]
    }
   ],
   "source": [
    "print(student_data.head(3))\n"
   ]
  },
  {
   "cell_type": "code",
   "execution_count": 23,
   "id": "a129d9c6-54f6-43d2-8183-6f2088b73453",
   "metadata": {},
   "outputs": [],
   "source": [
    "student_data = student_data.drop(index=3)"
   ]
  },
  {
   "cell_type": "code",
   "execution_count": 27,
   "id": "6e47959d-5b27-4d3b-8c07-8ca9a7bef3ba",
   "metadata": {},
   "outputs": [
    {
     "name": "stdout",
     "output_type": "stream",
     "text": [
      "      Name  Age Gender  Score\n",
      "0    Alice   23      F     85\n",
      "1      Bob   25      M     78\n",
      "2  Charlie   22      M     92\n",
      "4      Eva   23      F     88\n"
     ]
    }
   ],
   "source": [
    "print(student_data.head(5))\n"
   ]
  },
  {
   "cell_type": "code",
   "execution_count": 29,
   "id": "3437f1a0-e4e5-4fcd-a756-2a97999882d3",
   "metadata": {},
   "outputs": [
    {
     "name": "stdout",
     "output_type": "stream",
     "text": [
      "  Name  Age Gender  Score\n",
      "4  Eva   23      F     88\n"
     ]
    }
   ],
   "source": [
    "gender_f_high_score = student_data[(student_data['Gender'] == 'F') & (student_data['Score'] > 85)]\n",
    "print(gender_f_high_score)"
   ]
  },
  {
   "cell_type": "code",
   "execution_count": 31,
   "id": "e8e3c0d8-517a-493d-9a83-a19bd789330c",
   "metadata": {},
   "outputs": [
    {
     "name": "stdout",
     "output_type": "stream",
     "text": [
      "      Name  Age Gender  Score\n",
      "2  Charlie   22      M     92\n",
      "4      Eva   23      F     88\n",
      "0    Alice   23      F     85\n",
      "1      Bob   25      M     78\n"
     ]
    }
   ],
   "source": [
    "student_data_sorted = student_data.sort_values(by='Score', ascending=False)\n",
    "print(student_data_sorted)\n"
   ]
  },
  {
   "cell_type": "code",
   "execution_count": 33,
   "id": "3ad3ebe1-f69c-44ce-ad3d-5d97e84b1f52",
   "metadata": {},
   "outputs": [
    {
     "name": "stdout",
     "output_type": "stream",
     "text": [
      "      Name  Age Gender  Score Grade\n",
      "0    Alice   23      F     85     B\n",
      "1      Bob   25      M     78     C\n",
      "2  Charlie   22      M     92     A\n",
      "4      Eva   23      F     88     B\n"
     ]
    }
   ],
   "source": [
    "def assign_grade(score):\n",
    "    if score >= 90:\n",
    "        return 'A'\n",
    "    elif 80 <= score < 90:\n",
    "        return 'B'\n",
    "    elif 70 <= score < 80:\n",
    "        return 'C'\n",
    "    else:\n",
    "        return 'D'\n",
    "\n",
    "student_data['Grade'] = student_data['Score'].apply(assign_grade)\n",
    "print(student_data)\n"
   ]
  },
  {
   "cell_type": "code",
   "execution_count": 35,
   "id": "4a7a9a84-61c6-44c9-ab21-93caa350d912",
   "metadata": {},
   "outputs": [],
   "source": [
    "# 2. DataFrame Operations\n",
    "# Creating the sales_data DataFrame\n",
    "sales_data = pd.DataFrame({\n",
    "    'Month': ['Jan', 'Feb', 'Mar', 'Jan', 'Feb', 'Mar'],\n",
    "    'Product': ['A', 'A', 'A', 'B', 'B', 'B'],\n",
    "    'Sales': [150, 200, 250, 300, 400, 500]\n",
    "})"
   ]
  },
  {
   "cell_type": "code",
   "execution_count": 37,
   "id": "5de22ed6-239d-4a48-ac1c-b85be5a037ae",
   "metadata": {},
   "outputs": [
    {
     "name": "stdout",
     "output_type": "stream",
     "text": [
      "Product\n",
      "A     600\n",
      "B    1200\n",
      "Name: Sales, dtype: int64\n"
     ]
    }
   ],
   "source": [
    "total_sales = sales_data.groupby('Product')['Sales'].sum()\n",
    "print(total_sales)"
   ]
  },
  {
   "cell_type": "code",
   "execution_count": 39,
   "id": "fd4c742d-02b3-4033-8ae2-bad5e3f81cda",
   "metadata": {},
   "outputs": [
    {
     "name": "stdout",
     "output_type": "stream",
     "text": [
      "  Month Product  Sales\n",
      "2   Mar       A    250\n",
      "5   Mar       B    500\n"
     ]
    }
   ],
   "source": [
    "highest_sales = sales_data.loc[sales_data.groupby('Product')['Sales'].idxmax()]\n",
    "print(highest_sales)"
   ]
  },
  {
   "cell_type": "code",
   "execution_count": 45,
   "id": "c56b5104-9892-4148-9e87-fb3dbc2e38ae",
   "metadata": {},
   "outputs": [],
   "source": [
    "sales_data['Sales_Percentage'] = sales_data['Sales'] / sales_data.groupby('Product')['Sales'].transform('sum') * 100\n"
   ]
  },
  {
   "cell_type": "code",
   "execution_count": 47,
   "id": "4c6f4075-ee30-4494-9a77-32d811001271",
   "metadata": {},
   "outputs": [
    {
     "name": "stdout",
     "output_type": "stream",
     "text": [
      "  Month Product  Sales  Sales_Percentage\n",
      "0   Jan       A    150         25.000000\n",
      "1   Feb       A    200         33.333333\n",
      "2   Mar       A    250         41.666667\n",
      "3   Jan       B    300         25.000000\n",
      "4   Feb       B    400         33.333333\n",
      "5   Mar       B    500         41.666667\n"
     ]
    }
   ],
   "source": [
    "print(sales_data)"
   ]
  },
  {
   "cell_type": "code",
   "execution_count": 49,
   "id": "ab8b10b6-39bb-4201-9f47-cf4b8b6d78d7",
   "metadata": {},
   "outputs": [],
   "source": [
    "# 3. Handling Missing Data\n",
    "# Creating the employee_data DataFrame\n",
    "employee_data = pd.DataFrame({\n",
    "    'Name': ['John', 'Doe', 'Jane', 'Anna', 'Smith'],\n",
    "    'Department': ['HR', 'Finance', None, 'IT', 'HR'],\n",
    "    'Salary': [50000, 60000, 55000, None, 58000]\n",
    "})\n"
   ]
  },
  {
   "cell_type": "code",
   "execution_count": 51,
   "id": "32ac0dea-de8b-4c60-9561-018c4ba1074c",
   "metadata": {},
   "outputs": [
    {
     "name": "stdout",
     "output_type": "stream",
     "text": [
      "Name          0\n",
      "Department    1\n",
      "Salary        1\n",
      "dtype: int64\n"
     ]
    }
   ],
   "source": [
    "missing_values = employee_data.isnull().sum()\n",
    "print(missing_values)"
   ]
  },
  {
   "cell_type": "code",
   "execution_count": 55,
   "id": "15363ea2-a37c-4910-8caf-5a313d8077a7",
   "metadata": {},
   "outputs": [],
   "source": [
    "employee_data['Department'].fillna(employee_data['Department'].mode()[0], inplace=True)\n"
   ]
  },
  {
   "cell_type": "code",
   "execution_count": 59,
   "id": "d8c6b53a-3d14-4e86-9600-f10526b55bc5",
   "metadata": {},
   "outputs": [
    {
     "name": "stdout",
     "output_type": "stream",
     "text": [
      "    Name Department   Salary\n",
      "0   John         HR  50000.0\n",
      "1    Doe    Finance  60000.0\n",
      "2   Jane         HR  55000.0\n",
      "3   Anna         IT  55750.0\n",
      "4  Smith         HR  58000.0\n"
     ]
    }
   ],
   "source": [
    "print(employee_data)"
   ]
  },
  {
   "cell_type": "code",
   "execution_count": 67,
   "id": "d4c5f1e4-6fde-4d6b-8f05-3c7805aad318",
   "metadata": {},
   "outputs": [],
   "source": [
    "employee_data['Department'].fillna(employee_data['Department'].mode()[0], inplace=True)\n"
   ]
  },
  {
   "cell_type": "code",
   "execution_count": 69,
   "id": "f309dbba-135a-41ad-8d37-8b9891137027",
   "metadata": {},
   "outputs": [
    {
     "name": "stdout",
     "output_type": "stream",
     "text": [
      "    Name Department   Salary\n",
      "0   John         HR  50000.0\n",
      "1    Doe    Finance  60000.0\n",
      "2   Jane         HR  55000.0\n",
      "3   Anna         IT  55750.0\n",
      "4  Smith         HR  58000.0\n"
     ]
    }
   ],
   "source": [
    "print(employee_data)"
   ]
  },
  {
   "cell_type": "code",
   "execution_count": 71,
   "id": "4f0fd4b4-a823-4478-a69c-37fbf5369773",
   "metadata": {},
   "outputs": [
    {
     "name": "stdout",
     "output_type": "stream",
     "text": [
      "    Name Department   Salary\n",
      "0   John         HR  50000.0\n",
      "1    Doe    Finance  60000.0\n",
      "2   Jane         HR  55000.0\n",
      "3   Anna         IT  55750.0\n",
      "4  Smith         HR  58000.0\n"
     ]
    }
   ],
   "source": [
    "employee_data = employee_data.dropna()\n",
    "print(employee_data)"
   ]
  },
  {
   "cell_type": "code",
   "execution_count": 73,
   "id": "a5964c09-5360-4e09-92d4-4dd5415421dc",
   "metadata": {},
   "outputs": [
    {
     "name": "stdout",
     "output_type": "stream",
     "text": [
      "Mean: 24.6, Median: 24.5, Standard Deviation: 3.204163957519444\n"
     ]
    }
   ],
   "source": [
    "# 4. Series Operations\n",
    "# Creating the temperature Series\n",
    "temperature = pd.Series([23, 21, 20, 25, 27, 30, 28, 22, 24, 26])\n",
    "\n",
    "mean_temp = temperature.mean()\n",
    "median_temp = temperature.median()\n",
    "std_temp = temperature.std()\n",
    "\n",
    "print(f\"Mean: {mean_temp}, Median: {median_temp}, Standard Deviation: {std_temp}\")"
   ]
  },
  {
   "cell_type": "code",
   "execution_count": 75,
   "id": "b3a99890-61d5-4304-a5e2-48ae5c31b7ea",
   "metadata": {},
   "outputs": [
    {
     "name": "stdout",
     "output_type": "stream",
     "text": [
      "0   -5.000000\n",
      "1   -6.111111\n",
      "2   -6.666667\n",
      "3   -3.888889\n",
      "4   -2.777778\n",
      "5   -1.111111\n",
      "6   -2.222222\n",
      "7   -5.555556\n",
      "8   -4.444444\n",
      "9   -3.333333\n",
      "dtype: float64\n"
     ]
    }
   ],
   "source": [
    "temperature_celsius = (temperature - 32) * 5/9\n",
    "print(temperature_celsius)"
   ]
  },
  {
   "cell_type": "code",
   "execution_count": 77,
   "id": "50640d5e-262a-478c-a6e1-8fdafff365fa",
   "metadata": {},
   "outputs": [],
   "source": [
    "max_index = temperature.idxmax()\n",
    "min_index = temperature.idxmin()\n"
   ]
  },
  {
   "cell_type": "code",
   "execution_count": 79,
   "id": "35e4b087-096b-4095-aecf-6cbe75de1701",
   "metadata": {},
   "outputs": [
    {
     "name": "stdout",
     "output_type": "stream",
     "text": [
      "Max index: 5, Min index: 2\n"
     ]
    }
   ],
   "source": [
    "print(f\"Max index: {max_index}, Min index: {min_index}\")"
   ]
  },
  {
   "cell_type": "code",
   "execution_count": 81,
   "id": "656643c0-9070-4493-99f2-365bc263838f",
   "metadata": {},
   "outputs": [
    {
     "name": "stdout",
     "output_type": "stream",
     "text": [
      "2    20\n",
      "1    21\n",
      "7    22\n",
      "0    23\n",
      "8    24\n",
      "3    25\n",
      "9    26\n",
      "4    27\n",
      "6    28\n",
      "5    30\n",
      "dtype: int64\n",
      "5    30\n",
      "6    28\n",
      "4    27\n",
      "9    26\n",
      "3    25\n",
      "8    24\n",
      "0    23\n",
      "7    22\n",
      "1    21\n",
      "2    20\n",
      "dtype: int64\n"
     ]
    }
   ],
   "source": [
    "temperature_sorted_asc = temperature.sort_values()\n",
    "temperature_sorted_desc = temperature.sort_values(ascending=False)\n",
    "\n",
    "print(temperature_sorted_asc)\n",
    "print(temperature_sorted_desc)\n"
   ]
  },
  {
   "cell_type": "code",
   "execution_count": 83,
   "id": "a96f66b2-4894-440c-8266-6e12673c05cb",
   "metadata": {},
   "outputs": [],
   "source": [
    "# 5. Merging DataFrames\n",
    "# Creating the orders and customers DataFrames\n",
    "orders = pd.DataFrame({\n",
    "    'OrderID': [1, 2, 3, 4, 5],\n",
    "    'CustomerID': [101, 102, 103, 104, 101],\n",
    "    'Product': ['A', 'B', 'A', 'C', 'B']\n",
    "})\n",
    "\n",
    "customers = pd.DataFrame({\n",
    "    'CustomerID': [101, 102, 103, 104],\n",
    "    'Name': ['Alice', 'Bob', 'Charlie', 'David'],\n",
    "    'Location': ['New York', 'Los Angeles', 'Chicago', 'Houston']\n",
    "})"
   ]
  },
  {
   "cell_type": "code",
   "execution_count": 85,
   "id": "5b226380-6dfb-46a5-a5a9-bf6a3eef19ea",
   "metadata": {},
   "outputs": [],
   "source": [
    "merged_data = pd.merge(orders, customers, on='CustomerID')"
   ]
  },
  {
   "cell_type": "code",
   "execution_count": 87,
   "id": "df4b6144-60d1-44ca-88db-3c73ad5200ce",
   "metadata": {},
   "outputs": [
    {
     "name": "stdout",
     "output_type": "stream",
     "text": [
      "   OrderID  CustomerID Product     Name     Location\n",
      "0        1         101       A    Alice     New York\n",
      "1        2         102       B      Bob  Los Angeles\n",
      "2        3         103       A  Charlie      Chicago\n",
      "3        4         104       C    David      Houston\n",
      "4        5         101       B    Alice     New York\n"
     ]
    }
   ],
   "source": [
    "print(merged_data)"
   ]
  },
  {
   "cell_type": "code",
   "execution_count": 89,
   "id": "143f4357-9a2d-4e4b-9177-f379d4769a9e",
   "metadata": {},
   "outputs": [
    {
     "name": "stdout",
     "output_type": "stream",
     "text": [
      "Location\n",
      "Chicago        1\n",
      "Houston        1\n",
      "Los Angeles    1\n",
      "New York       2\n",
      "Name: OrderID, dtype: int64\n"
     ]
    }
   ],
   "source": [
    "orders_by_location = merged_data.groupby('Location')['OrderID'].count()\n",
    "print(orders_by_location)"
   ]
  },
  {
   "cell_type": "code",
   "execution_count": null,
   "id": "da553cba-f7e7-453d-a8c6-2bfeceddfdce",
   "metadata": {},
   "outputs": [],
   "source": []
  }
 ],
 "metadata": {
  "kernelspec": {
   "display_name": "Python 3 (ipykernel)",
   "language": "python",
   "name": "python3"
  },
  "language_info": {
   "codemirror_mode": {
    "name": "ipython",
    "version": 3
   },
   "file_extension": ".py",
   "mimetype": "text/x-python",
   "name": "python",
   "nbconvert_exporter": "python",
   "pygments_lexer": "ipython3",
   "version": "3.12.4"
  }
 },
 "nbformat": 4,
 "nbformat_minor": 5
}
